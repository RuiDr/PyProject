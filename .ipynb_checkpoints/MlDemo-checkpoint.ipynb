{
 "cells": [
  {
   "cell_type": "markdown",
   "id": "2b76d955-178a-48a0-bbdb-d320de2dbc97",
   "metadata": {},
   "source": [
    "# 吴恩达机器学习 课后作业"
   ]
  },
  {
   "cell_type": "code",
   "execution_count": 8,
   "id": "94c73d73-0c29-4ffa-8b52-69707d328c4c",
   "metadata": {},
   "outputs": [],
   "source": [
    "# Q1：在本部分的练习中，您将使用一个变量实现线性回归，以预测食品卡车的利润。假设你是一家餐馆的首席执行官，\n",
    "# 正在考虑不同的城市开设一个新的分店。该连锁店已经在各个城市拥有卡车，而且你有来自城市的利润和人口数据。\n",
    "# 您希望使用这些数据来帮助您选择将哪个城市扩展到下一个城市。"
   ]
  },
  {
   "cell_type": "code",
   "execution_count": 2,
   "id": "97b9ad22-7e6e-4862-8793-968e0bb95a07",
   "metadata": {},
   "outputs": [],
   "source": [
    "import numpy as np\n",
    "import pandas as pd\n",
    "import matplotlib.pyplot as plt\n",
    "from mpl_toolkits.mplot3d import Axes3D"
   ]
  },
  {
   "cell_type": "code",
   "execution_count": 3,
   "id": "b4bfb317-f366-41b2-b106-f4656dd5fe59",
   "metadata": {},
   "outputs": [
    {
     "name": "stdout",
     "output_type": "stream",
     "text": [
      "   Population   Profit\n",
      "0      6.1101  17.5920\n",
      "1      5.5277   9.1302\n",
      "2      8.5186  13.6620\n",
      "3      7.0032  11.8540\n",
      "4      5.8598   6.8233\n"
     ]
    }
   ],
   "source": [
    "# 导入数据\n",
    "data = pd.read_csv('./data/mldata/ex1/ex1data1.txt', header=None,names=['Population', 'Profit'])\n",
    "# head()根据位置返回对象的前n行\n",
    "a = data.head()\n",
    "print(a)"
   ]
  },
  {
   "cell_type": "code",
   "execution_count": 4,
   "id": "34119f92-839e-48f3-b40e-6dd21aab2bae",
   "metadata": {},
   "outputs": [
    {
     "data": {
      "text/html": [
       "<div>\n",
       "<style scoped>\n",
       "    .dataframe tbody tr th:only-of-type {\n",
       "        vertical-align: middle;\n",
       "    }\n",
       "\n",
       "    .dataframe tbody tr th {\n",
       "        vertical-align: top;\n",
       "    }\n",
       "\n",
       "    .dataframe thead th {\n",
       "        text-align: right;\n",
       "    }\n",
       "</style>\n",
       "<table border=\"1\" class=\"dataframe\">\n",
       "  <thead>\n",
       "    <tr style=\"text-align: right;\">\n",
       "      <th></th>\n",
       "      <th>Population</th>\n",
       "      <th>Profit</th>\n",
       "    </tr>\n",
       "  </thead>\n",
       "  <tbody>\n",
       "    <tr>\n",
       "      <th>count</th>\n",
       "      <td>97.000000</td>\n",
       "      <td>97.000000</td>\n",
       "    </tr>\n",
       "    <tr>\n",
       "      <th>mean</th>\n",
       "      <td>8.159800</td>\n",
       "      <td>5.839135</td>\n",
       "    </tr>\n",
       "    <tr>\n",
       "      <th>std</th>\n",
       "      <td>3.869884</td>\n",
       "      <td>5.510262</td>\n",
       "    </tr>\n",
       "    <tr>\n",
       "      <th>min</th>\n",
       "      <td>5.026900</td>\n",
       "      <td>-2.680700</td>\n",
       "    </tr>\n",
       "    <tr>\n",
       "      <th>25%</th>\n",
       "      <td>5.707700</td>\n",
       "      <td>1.986900</td>\n",
       "    </tr>\n",
       "    <tr>\n",
       "      <th>50%</th>\n",
       "      <td>6.589400</td>\n",
       "      <td>4.562300</td>\n",
       "    </tr>\n",
       "    <tr>\n",
       "      <th>75%</th>\n",
       "      <td>8.578100</td>\n",
       "      <td>7.046700</td>\n",
       "    </tr>\n",
       "    <tr>\n",
       "      <th>max</th>\n",
       "      <td>22.203000</td>\n",
       "      <td>24.147000</td>\n",
       "    </tr>\n",
       "  </tbody>\n",
       "</table>\n",
       "</div>"
      ],
      "text/plain": [
       "       Population     Profit\n",
       "count   97.000000  97.000000\n",
       "mean     8.159800   5.839135\n",
       "std      3.869884   5.510262\n",
       "min      5.026900  -2.680700\n",
       "25%      5.707700   1.986900\n",
       "50%      6.589400   4.562300\n",
       "75%      8.578100   7.046700\n",
       "max     22.203000  24.147000"
      ]
     },
     "execution_count": 4,
     "metadata": {},
     "output_type": "execute_result"
    }
   ],
   "source": [
    "# describe()函数可以查看数据的基本情况，包括count 非空值数，mean平均值，std 标准差，max最大值，min最小值\n",
    "data.describe()"
   ]
  },
  {
   "cell_type": "code",
   "execution_count": 5,
   "id": "303c6a57-7802-4364-87d5-c160b5279f8c",
   "metadata": {},
   "outputs": [
    {
     "data": {
      "image/png": "[encoded data removed]",
      "text/plain": [
       "<Figure size 576x360 with 1 Axes>"
      ]
     },
     "metadata": {
      "needs_background": "light"
     },
     "output_type": "display_data"
    }
   ],
   "source": [
    "# 数据可视化\n",
    "# 定义图像属性\n",
    "data.plot(kind='scatter',x='Population',y='Profit',figsize=(8,5))\n",
    "plt.show()"
   ]
  },
  {
   "cell_type": "code",
   "execution_count": 6,
   "id": "3af90a14-1cc6-46b6-a077-0c45d01aee28",
   "metadata": {},
   "outputs": [
    {
     "name": "stdout",
     "output_type": "stream",
     "text": [
      "    Ones  Population    Profit\n",
      "0      1      6.1101  17.59200\n",
      "1      1      5.5277   9.13020\n",
      "2      1      8.5186  13.66200\n",
      "3      1      7.0032  11.85400\n",
      "4      1      5.8598   6.82330\n",
      "..   ...         ...       ...\n",
      "92     1      5.8707   7.20290\n",
      "93     1      5.3054   1.98690\n",
      "94     1      8.2934   0.14454\n",
      "95     1     13.3940   9.05510\n",
      "96     1      5.4369   0.61705\n",
      "\n",
      "[97 rows x 3 columns]\n"
     ]
    }
   ],
   "source": [
    "# 训练集中添加一列1 name为ones\n",
    "data.insert(0, 'Ones',1)\n",
    "print(data)"
   ]
  },
  {
   "cell_type": "code",
   "execution_count": 7,
   "id": "ab067556-cb6f-4ff0-b3f1-0ada01e764a0",
   "metadata": {},
   "outputs": [
    {
     "name": "stdout",
     "output_type": "stream",
     "text": [
      "(97, 2)\n",
      "(97,)\n"
     ]
    }
   ],
   "source": [
    "# 将下面x变为矩阵模式，方便计算\n",
    "# 获取训练集数据\n",
    "\n",
    "# 此时data中共有三列，x[:,]打印所有行[,:-1]=[0,1]不打印最后一列\n",
    "x = data.iloc[:,:-1].values\n",
    "print(x.shape)\n",
    "# 打印最后一列\n",
    "y = data.iloc[:,-1].values\n",
    "print(y.shape)"
   ]
  },
  {
   "cell_type": "code",
   "execution_count": 8,
   "id": "55e1b8fb-5b52-4bf3-b33a-e40e0d19e60a",
   "metadata": {},
   "outputs": [
    {
     "name": "stdout",
     "output_type": "stream",
     "text": [
      "2\n",
      "[0. 0.]\n",
      "(2,)\n"
     ]
    }
   ],
   "source": [
    "#设定theta的初始值为0,0,开始迭代,theta为一维数据，大小为x的列的大小\n",
    "print(x.shape[1])\n",
    "theta = np.zeros(x.shape[1])\n",
    "print(theta)\n",
    "print(theta.shape)"
   ]
  },
  {
   "cell_type": "code",
   "execution_count": 9,
   "id": "c2c7bb66-193f-4bd9-9ca1-d8c5c72ad286",
   "metadata": {},
   "outputs": [
    {
     "data": {
      "text/plain": [
       "((97, 2), (2,), (97,))"
      ]
     },
     "execution_count": 9,
     "metadata": {},
     "output_type": "execute_result"
    }
   ],
   "source": [
    "# 检查维度\n",
    "x.shape, theta.shape, y.shape"
   ]
  },
  {
   "cell_type": "code",
   "execution_count": 10,
   "id": "94b8a11c-a482-4c36-a1be-7d273fe9233e",
   "metadata": {},
   "outputs": [
    {
     "name": "stdout",
     "output_type": "stream",
     "text": [
      "[3.09478464e+02 8.33605520e+01 1.86650244e+02 1.40517316e+02\n",
      " 4.65574229e+01 1.41276996e+02 1.89077129e+01 1.44000000e+02\n",
      " 4.35428417e+01 1.45664356e+01 1.05768048e+01 2.40405025e+02\n",
      " 9.95465601e+00 5.22121856e+01 5.12913792e-01 1.23404664e+01\n",
      " 2.81409030e+01 3.14462993e-01 1.33356432e+01 2.90445545e+01\n",
      " 9.85080996e+00 4.73802289e+02 1.81731690e+01 2.69101562e+01\n",
      " 9.50180625e+00 5.12479044e+02 1.82277001e+02 4.96559809e+01\n",
      " 2.15854864e+02 5.83077609e+02 1.48840000e+00 3.59592116e+01\n",
      " 1.47233956e+02 3.42065025e+00 4.28056148e+01 2.08145813e+01\n",
      " 1.69447490e+01 1.15110918e+01 1.02353689e+02 3.02214068e+01\n",
      " 3.09770165e-01 1.52998323e+01 2.90025332e+01 5.95652836e+00\n",
      " 4.53171312e+01 1.09474369e+00 2.63548757e+01 3.40033600e+00\n",
      " 6.40688185e+01 1.03612041e+00 4.55679002e+01 3.38412816e+00\n",
      " 1.83912322e+01 2.49810036e+01 2.02578289e+00 2.01952521e+00\n",
      " 6.12859536e+00 2.11986576e+01 1.57006138e+01 2.93124788e+01\n",
      " 2.67226964e+01 5.51736984e-01 3.21449041e+02 1.45298916e+02\n",
      " 2.90838916e+02 2.38651790e+01 3.29958336e+01 6.04568452e+01\n",
      " 1.03489929e+00 4.40664064e+02 4.46210640e+01 1.62078708e+01\n",
      " 1.63430656e+00 1.11629492e+01 7.18615249e+00 8.80783684e-02\n",
      " 1.50893403e+01 3.25059620e+01 4.55976068e+01 4.23371776e+00\n",
      " 2.29949021e-01 4.17017241e-02 4.60511532e-01 5.69043923e+01\n",
      " 2.85540610e+01 1.79903223e+01 4.62141636e+01 8.59236303e-01\n",
      " 2.31040000e-02 7.96029796e+00 3.40439401e+00 1.84547568e+01\n",
      " 5.18817684e+01 3.94777161e+00 2.08918116e-02 8.19948360e+01\n",
      " 3.80750702e-01]\n",
      "32.072733877455676\n"
     ]
    }
   ],
   "source": [
    "# 定义代价函数\n",
    "\n",
    "def computeCost(x, y, theta):\n",
    "    # 求解每个平方项\n",
    "    inner = ((np.dot(x, theta)) -y)**2\n",
    "    print(inner)\n",
    "    # 累加后再乘以1/2*m\n",
    "    return np.sum(inner)/(2*len(x))\n",
    "computeCost_init = computeCost(x, y, theta)\n",
    "print(computeCost_init)"
   ]
  },
  {
   "cell_type": "code",
   "execution_count": 12,
   "id": "a24a7630-b299-4b19-a514-4d7d5eac8055",
   "metadata": {},
   "outputs": [
    {
     "ename": "NameError",
     "evalue": "name 'compute_cost' is not defined",
     "output_type": "error",
     "traceback": [
      "\u001b[1;31m---------------------------------------------------------------------------\u001b[0m",
      "\u001b[1;31mNameError\u001b[0m                                 Traceback (most recent call last)",
      "\u001b[1;32mC:\\Users\\ADMINI~1\\AppData\\Local\\Temp/ipykernel_16764/601217009.py\u001b[0m in \u001b[0;36m<module>\u001b[1;34m\u001b[0m\n\u001b[0;32m     20\u001b[0m     \u001b[1;32mreturn\u001b[0m \u001b[0mtheta\u001b[0m\u001b[1;33m,\u001b[0m \u001b[0mcost\u001b[0m\u001b[1;33m\u001b[0m\u001b[1;33m\u001b[0m\u001b[0m\n\u001b[0;32m     21\u001b[0m \u001b[1;33m\u001b[0m\u001b[0m\n\u001b[1;32m---> 22\u001b[1;33m \u001b[0mfinal_theta\u001b[0m\u001b[1;33m,\u001b[0m \u001b[0mcost\u001b[0m \u001b[1;33m=\u001b[0m \u001b[0mgradientDescent\u001b[0m\u001b[1;33m(\u001b[0m\u001b[0mx\u001b[0m\u001b[1;33m,\u001b[0m \u001b[0my\u001b[0m\u001b[1;33m,\u001b[0m \u001b[0mtheta\u001b[0m\u001b[1;33m,\u001b[0m \u001b[0malpha\u001b[0m\u001b[1;33m,\u001b[0m \u001b[0mepoch\u001b[0m\u001b[1;33m)\u001b[0m\u001b[1;33m\u001b[0m\u001b[1;33m\u001b[0m\u001b[0m\n\u001b[0m\u001b[0;32m     23\u001b[0m \u001b[0mfinal_cost\u001b[0m \u001b[1;33m=\u001b[0m \u001b[0mcomputeCost\u001b[0m\u001b[1;33m(\u001b[0m\u001b[0mx\u001b[0m\u001b[1;33m,\u001b[0m \u001b[0my\u001b[0m\u001b[1;33m,\u001b[0m \u001b[0mfinal_theta\u001b[0m\u001b[1;33m)\u001b[0m\u001b[1;33m\u001b[0m\u001b[1;33m\u001b[0m\u001b[0m\n\u001b[0;32m     24\u001b[0m \u001b[1;31m# 返回人口数一维矩阵顺序从小到大\u001b[0m\u001b[1;33m\u001b[0m\u001b[1;33m\u001b[0m\u001b[1;33m\u001b[0m\u001b[0m\n",
      "\u001b[1;32mC:\\Users\\ADMINI~1\\AppData\\Local\\Temp/ipykernel_16764/601217009.py\u001b[0m in \u001b[0;36mgradientDescent\u001b[1;34m(x, y, theta, alpha, epoch)\u001b[0m\n\u001b[0;32m     17\u001b[0m         \u001b[1;31m# 同步更新theta\u001b[0m\u001b[1;33m\u001b[0m\u001b[1;33m\u001b[0m\u001b[1;33m\u001b[0m\u001b[0m\n\u001b[0;32m     18\u001b[0m         \u001b[0mtheta\u001b[0m \u001b[1;33m=\u001b[0m \u001b[0mtemp\u001b[0m\u001b[1;33m\u001b[0m\u001b[1;33m\u001b[0m\u001b[0m\n\u001b[1;32m---> 19\u001b[1;33m         \u001b[0mcost\u001b[0m\u001b[1;33m[\u001b[0m\u001b[0mi\u001b[0m\u001b[1;33m]\u001b[0m \u001b[1;33m=\u001b[0m \u001b[0mcompute_cost\u001b[0m\u001b[1;33m(\u001b[0m\u001b[0mx\u001b[0m\u001b[1;33m,\u001b[0m \u001b[0my\u001b[0m\u001b[1;33m,\u001b[0m \u001b[0mtheta\u001b[0m\u001b[1;33m)\u001b[0m\u001b[1;33m\u001b[0m\u001b[1;33m\u001b[0m\u001b[0m\n\u001b[0m\u001b[0;32m     20\u001b[0m     \u001b[1;32mreturn\u001b[0m \u001b[0mtheta\u001b[0m\u001b[1;33m,\u001b[0m \u001b[0mcost\u001b[0m\u001b[1;33m\u001b[0m\u001b[1;33m\u001b[0m\u001b[0m\n\u001b[0;32m     21\u001b[0m \u001b[1;33m\u001b[0m\u001b[0m\n",
      "\u001b[1;31mNameError\u001b[0m: name 'compute_cost' is not defined"
     ]
    }
   ],
   "source": [
    "# 梯度下降算法\n",
    "# 参数数量\n",
    "parameters = int(theta.shape[0])\n",
    "# 相关参数\n",
    "alpha = 0.01\n",
    "# 迭代次数\n",
    "epoch = 100\n",
    "def gradientDescent(x, y, theta, alpha, epoch = 1000):\n",
    "    # 初始化参数矩阵\n",
    "    temp = np.array(np.zeros(theta.shape))\n",
    "    # 初始化一个ndarray, 包含每次更新后的代价\n",
    "    cost = np.zeros(epoch)\n",
    "    # 样本数目\n",
    "    m = x.shape[0]\n",
    "    for i in range(epoch):\n",
    "        temp = theta - (alpha/m)*(x.dot(theta.T)-y).T.dot(x)\n",
    "        # 同步更新theta\n",
    "        theta = temp\n",
    "        cost[i] = computeCost(x, y, theta)\n",
    "    return theta, cost\n",
    "\n",
    "final_theta, cost = gradientDescent(x, y, theta, alpha, epoch)\n",
    "final_cost = computeCost(x, y, final_theta)\n",
    "# 返回人口数一维矩阵顺序从小到大\n",
    "population = np.linspace(data.Population.min(), data.Population.max(), 97)\n",
    "profit = final_theta[0,0] + (final_theta[0,1] * population)\n",
    "\n",
    "fig, ax = plt.subplots(figsize=(8, 6))\n",
    "ax.plot(population, profit, 'r', label='Prediction')#最小损失直线\n",
    "ax.scatter(data['Population'], data['Profit'], label='Training data')#散点\n",
    "ax.legend(loc=4) # 4表示标签在右下角\n",
    "ax.set_xlabel('Population')\n",
    "ax.set_ylabel('Profit')\n",
    "ax.set_title('Prediction Profit by. Population Size')\n",
    "plt.show()"
   ]
  },
  {
   "cell_type": "code",
   "execution_count": null,
   "id": "d177c7ce-477b-4408-83a2-cfcb51c66ca7",
   "metadata": {},
   "outputs": [],
   "source": []
  }
 ],
 "metadata": {
  "kernelspec": {
   "display_name": "Python 3 (ipykernel)",
   "language": "python",
   "name": "python3"
  },
  "language_info": {
   "codemirror_mode": {
    "name": "ipython",
    "version": 3
   },
   "file_extension": ".py",
   "mimetype": "text/x-python",
   "name": "python",
   "nbconvert_exporter": "python",
   "pygments_lexer": "ipython3",
   "version": "3.7.11"
  }
 },
 "nbformat": 4,
 "nbformat_minor": 5
}
